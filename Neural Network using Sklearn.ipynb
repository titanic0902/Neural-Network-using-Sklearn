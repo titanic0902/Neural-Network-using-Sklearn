{
 "cells": [
  {
   "cell_type": "code",
   "execution_count": 3,
   "id": "62679e25",
   "metadata": {},
   "outputs": [],
   "source": [
    "from sklearn import datasets\n",
    "from sklearn.model_selection import train_test_split"
   ]
  },
  {
   "cell_type": "code",
   "execution_count": 4,
   "id": "947d3952",
   "metadata": {},
   "outputs": [],
   "source": [
    "iris = datasets.load_iris()"
   ]
  },
  {
   "cell_type": "code",
   "execution_count": 7,
   "id": "e4b0421e",
   "metadata": {},
   "outputs": [],
   "source": [
    "x = iris.data\n",
    "y= iris.target"
   ]
  },
  {
   "cell_type": "raw",
   "id": "9439499a",
   "metadata": {},
   "source": []
  },
  {
   "cell_type": "code",
   "execution_count": 8,
   "id": "8300fa72",
   "metadata": {},
   "outputs": [],
   "source": [
    "x_train,x_test,y_train,y_test = train_test_split(x,y)"
   ]
  },
  {
   "cell_type": "code",
   "execution_count": 10,
   "id": "72d34b74",
   "metadata": {},
   "outputs": [
    {
     "data": {
      "text/plain": [
       "array([0, 1, 0, 0, 1, 1, 2, 1, 2, 1, 2, 2, 1, 2, 1, 0, 1, 1, 1, 2, 2, 1,\n",
       "       2, 1, 2, 1, 0, 2, 1, 1, 1, 2, 1, 1, 1, 0, 2, 1, 0, 2, 2, 1, 2, 1,\n",
       "       0, 1, 0, 2, 0, 0, 0, 2, 1, 0, 0, 1, 1, 2, 2, 1, 1, 0, 0, 1, 0, 1,\n",
       "       0, 2, 2, 1, 1, 0, 1, 1, 0, 0, 2, 0, 2, 0, 2, 2, 0, 2, 2, 1, 0, 1,\n",
       "       1, 1, 0, 0, 0, 0, 2, 2, 0, 1, 1, 2, 0, 0, 2, 1, 1, 2, 0, 0, 0, 1,\n",
       "       0, 0])"
      ]
     },
     "execution_count": 10,
     "metadata": {},
     "output_type": "execute_result"
    }
   ],
   "source": [
    "y_train"
   ]
  },
  {
   "cell_type": "code",
   "execution_count": 11,
   "id": "daef2deb",
   "metadata": {},
   "outputs": [],
   "source": [
    "from sklearn.neural_network import MLPClassifier"
   ]
  },
  {
   "cell_type": "code",
   "execution_count": 12,
   "id": "d5e7e8d3",
   "metadata": {},
   "outputs": [
    {
     "name": "stderr",
     "output_type": "stream",
     "text": [
      "C:\\ProgramData\\anaconda3\\lib\\site-packages\\sklearn\\neural_network\\_multilayer_perceptron.py:684: ConvergenceWarning: Stochastic Optimizer: Maximum iterations (200) reached and the optimization hasn't converged yet.\n",
      "  warnings.warn(\n"
     ]
    },
    {
     "data": {
      "text/html": [
       "<style>#sk-container-id-1 {color: black;background-color: white;}#sk-container-id-1 pre{padding: 0;}#sk-container-id-1 div.sk-toggleable {background-color: white;}#sk-container-id-1 label.sk-toggleable__label {cursor: pointer;display: block;width: 100%;margin-bottom: 0;padding: 0.3em;box-sizing: border-box;text-align: center;}#sk-container-id-1 label.sk-toggleable__label-arrow:before {content: \"▸\";float: left;margin-right: 0.25em;color: #696969;}#sk-container-id-1 label.sk-toggleable__label-arrow:hover:before {color: black;}#sk-container-id-1 div.sk-estimator:hover label.sk-toggleable__label-arrow:before {color: black;}#sk-container-id-1 div.sk-toggleable__content {max-height: 0;max-width: 0;overflow: hidden;text-align: left;background-color: #f0f8ff;}#sk-container-id-1 div.sk-toggleable__content pre {margin: 0.2em;color: black;border-radius: 0.25em;background-color: #f0f8ff;}#sk-container-id-1 input.sk-toggleable__control:checked~div.sk-toggleable__content {max-height: 200px;max-width: 100%;overflow: auto;}#sk-container-id-1 input.sk-toggleable__control:checked~label.sk-toggleable__label-arrow:before {content: \"▾\";}#sk-container-id-1 div.sk-estimator input.sk-toggleable__control:checked~label.sk-toggleable__label {background-color: #d4ebff;}#sk-container-id-1 div.sk-label input.sk-toggleable__control:checked~label.sk-toggleable__label {background-color: #d4ebff;}#sk-container-id-1 input.sk-hidden--visually {border: 0;clip: rect(1px 1px 1px 1px);clip: rect(1px, 1px, 1px, 1px);height: 1px;margin: -1px;overflow: hidden;padding: 0;position: absolute;width: 1px;}#sk-container-id-1 div.sk-estimator {font-family: monospace;background-color: #f0f8ff;border: 1px dotted black;border-radius: 0.25em;box-sizing: border-box;margin-bottom: 0.5em;}#sk-container-id-1 div.sk-estimator:hover {background-color: #d4ebff;}#sk-container-id-1 div.sk-parallel-item::after {content: \"\";width: 100%;border-bottom: 1px solid gray;flex-grow: 1;}#sk-container-id-1 div.sk-label:hover label.sk-toggleable__label {background-color: #d4ebff;}#sk-container-id-1 div.sk-serial::before {content: \"\";position: absolute;border-left: 1px solid gray;box-sizing: border-box;top: 0;bottom: 0;left: 50%;z-index: 0;}#sk-container-id-1 div.sk-serial {display: flex;flex-direction: column;align-items: center;background-color: white;padding-right: 0.2em;padding-left: 0.2em;position: relative;}#sk-container-id-1 div.sk-item {position: relative;z-index: 1;}#sk-container-id-1 div.sk-parallel {display: flex;align-items: stretch;justify-content: center;background-color: white;position: relative;}#sk-container-id-1 div.sk-item::before, #sk-container-id-1 div.sk-parallel-item::before {content: \"\";position: absolute;border-left: 1px solid gray;box-sizing: border-box;top: 0;bottom: 0;left: 50%;z-index: -1;}#sk-container-id-1 div.sk-parallel-item {display: flex;flex-direction: column;z-index: 1;position: relative;background-color: white;}#sk-container-id-1 div.sk-parallel-item:first-child::after {align-self: flex-end;width: 50%;}#sk-container-id-1 div.sk-parallel-item:last-child::after {align-self: flex-start;width: 50%;}#sk-container-id-1 div.sk-parallel-item:only-child::after {width: 0;}#sk-container-id-1 div.sk-dashed-wrapped {border: 1px dashed gray;margin: 0 0.4em 0.5em 0.4em;box-sizing: border-box;padding-bottom: 0.4em;background-color: white;}#sk-container-id-1 div.sk-label label {font-family: monospace;font-weight: bold;display: inline-block;line-height: 1.2em;}#sk-container-id-1 div.sk-label-container {text-align: center;}#sk-container-id-1 div.sk-container {/* jupyter's `normalize.less` sets `[hidden] { display: none; }` but bootstrap.min.css set `[hidden] { display: none !important; }` so we also need the `!important` here to be able to override the default hidden behavior on the sphinx rendered scikit-learn.org. See: https://github.com/scikit-learn/scikit-learn/issues/21755 */display: inline-block !important;position: relative;}#sk-container-id-1 div.sk-text-repr-fallback {display: none;}</style><div id=\"sk-container-id-1\" class=\"sk-top-container\"><div class=\"sk-text-repr-fallback\"><pre>MLPClassifier()</pre><b>In a Jupyter environment, please rerun this cell to show the HTML representation or trust the notebook. <br />On GitHub, the HTML representation is unable to render, please try loading this page with nbviewer.org.</b></div><div class=\"sk-container\" hidden><div class=\"sk-item\"><div class=\"sk-estimator sk-toggleable\"><input class=\"sk-toggleable__control sk-hidden--visually\" id=\"sk-estimator-id-1\" type=\"checkbox\" checked><label for=\"sk-estimator-id-1\" class=\"sk-toggleable__label sk-toggleable__label-arrow\">MLPClassifier</label><div class=\"sk-toggleable__content\"><pre>MLPClassifier()</pre></div></div></div></div></div>"
      ],
      "text/plain": [
       "MLPClassifier()"
      ]
     },
     "execution_count": 12,
     "metadata": {},
     "output_type": "execute_result"
    }
   ],
   "source": [
    "clf = MLPClassifier()\n",
    "clf.fit(x_train,y_train)"
   ]
  },
  {
   "cell_type": "code",
   "execution_count": 13,
   "id": "e434c2d2",
   "metadata": {},
   "outputs": [
    {
     "data": {
      "text/plain": [
       "0.9736842105263158"
      ]
     },
     "execution_count": 13,
     "metadata": {},
     "output_type": "execute_result"
    }
   ],
   "source": [
    "clf.score(x_test,y_test)"
   ]
  },
  {
   "cell_type": "code",
   "execution_count": 14,
   "id": "d16a64fb",
   "metadata": {},
   "outputs": [
    {
     "data": {
      "text/plain": [
       "[array([[-7.83787283e-02,  1.25548100e-01,  1.46384660e-01,\n",
       "         -2.11428740e-02,  8.68218895e-02, -1.07505727e-01,\n",
       "          1.19312977e-01,  1.42368206e-01, -6.85486977e-03,\n",
       "         -3.56747700e-02,  5.11473984e-02, -9.66792952e-02,\n",
       "          1.81863929e-02,  1.90640741e-01, -7.50403238e-02,\n",
       "         -2.46085474e-02, -1.59808963e-01, -1.72485540e-01,\n",
       "         -1.83055439e-01, -4.60020774e-02, -1.15940028e-02,\n",
       "         -8.86748827e-02,  9.73542435e-02,  5.14522721e-02,\n",
       "         -4.08202005e-02, -6.85266684e-02, -1.00837330e-01,\n",
       "         -5.86842575e-02,  5.56128662e-02, -1.20939853e-04,\n",
       "          1.45270787e-01, -1.05800621e-01,  2.47041978e-01,\n",
       "          1.92948846e-01,  1.29409126e-01, -5.74198607e-02,\n",
       "         -1.67003073e-01,  1.11164355e-01,  9.89395825e-02,\n",
       "          1.22831599e-01, -2.24609518e-02, -2.29797390e-02,\n",
       "          3.00931343e-02,  6.97933526e-02,  1.96943253e-01,\n",
       "          1.10061833e-01,  1.30694308e-01,  1.44181165e-01,\n",
       "         -7.14336459e-03, -5.89879202e-02, -8.14973534e-02,\n",
       "         -6.73038135e-02,  1.77521125e-02,  2.58280294e-02,\n",
       "          6.99862895e-02, -2.08369911e-02, -3.46949139e-02,\n",
       "          8.01285913e-02, -1.05196093e-02, -9.94266403e-02,\n",
       "         -7.12037929e-02, -5.89087114e-02,  6.36769189e-03,\n",
       "          7.11364447e-05, -8.68775109e-02,  1.16498226e-01,\n",
       "          3.85651915e-02, -3.86382240e-02, -1.85363019e-02,\n",
       "          5.73976039e-02,  1.06329408e-01,  1.25600882e-01,\n",
       "          2.01170675e-02, -4.06635892e-02,  7.89506121e-07,\n",
       "          9.51904317e-02,  2.37985894e-01, -6.37326863e-02,\n",
       "          1.21284994e-01,  5.07971116e-03,  2.16687559e-01,\n",
       "         -1.41952766e-02, -6.98667338e-02, -7.58754537e-02,\n",
       "          6.54148816e-02,  8.34726899e-03, -2.29429792e-03,\n",
       "         -2.68998933e-02,  2.15164275e-01, -6.77835988e-02,\n",
       "         -1.01903280e-02, -1.49987559e-04,  2.29986123e-01,\n",
       "          3.76976348e-02, -7.41649615e-02, -5.75989250e-02,\n",
       "         -1.69625625e-02,  2.54191001e-02,  1.00471593e-01,\n",
       "          1.45637112e-01],\n",
       "        [ 2.83826057e-01,  1.14296220e-01, -1.45460349e-02,\n",
       "          1.74747843e-01, -9.10751589e-02, -2.63893992e-02,\n",
       "          2.47623415e-01, -2.19995710e-01, -2.18207108e-02,\n",
       "         -2.85791333e-02,  1.98611484e-01,  3.37965658e-03,\n",
       "         -8.51159624e-02,  8.36683101e-02,  8.11108152e-04,\n",
       "         -7.60186257e-02,  1.83653294e-01,  1.34815503e-01,\n",
       "          1.41557792e-01,  1.66247995e-01, -4.99054607e-02,\n",
       "          1.64194711e-02,  3.54390677e-01, -2.10351650e-02,\n",
       "         -6.56551765e-02, -1.14836320e-01, -2.24034759e-02,\n",
       "          3.62456308e-02,  1.87193427e-01,  9.73895655e-03,\n",
       "          1.31811227e-01,  3.33861895e-01, -2.08476236e-02,\n",
       "         -7.58842447e-04,  1.26300508e-02,  1.66493628e-01,\n",
       "          2.13343322e-01, -9.69587816e-02,  1.06635110e-01,\n",
       "          1.44002244e-01, -6.55494202e-02,  3.23714920e-02,\n",
       "          3.19365952e-01,  3.09637471e-02, -6.46890808e-02,\n",
       "         -2.63531521e-01,  1.50168550e-01,  1.45750222e-01,\n",
       "          2.78231442e-03, -4.12242823e-04, -6.02785342e-02,\n",
       "         -8.89320474e-02,  1.13373702e-01, -7.71917562e-02,\n",
       "         -1.42361629e-01,  2.48637390e-01, -1.22989368e-01,\n",
       "         -3.83039484e-02,  3.74093310e-05,  1.83210821e-01,\n",
       "         -7.92834205e-02,  3.81950584e-05,  1.12805611e-01,\n",
       "         -2.32718699e-02, -4.45477852e-02,  2.90414408e-01,\n",
       "          9.34305313e-02, -2.27455226e-04, -2.14249803e-01,\n",
       "          1.06626366e-01,  5.46433014e-02,  4.69962128e-02,\n",
       "         -1.48722480e-01, -6.44600749e-02, -4.96698941e-02,\n",
       "          1.34816236e-01, -1.24847859e-01, -3.92658258e-02,\n",
       "          2.51718587e-01,  1.03577873e-01,  2.50215925e-01,\n",
       "          3.27688183e-01, -3.77820430e-02,  4.47562813e-05,\n",
       "          1.43399288e-01, -3.21856641e-04, -1.36121880e-02,\n",
       "          9.30309981e-02,  2.80508075e-01, -3.76651345e-02,\n",
       "          3.37670568e-02, -5.70219484e-04, -1.14240294e-02,\n",
       "          2.22900907e-01,  9.29682872e-02,  4.13363543e-02,\n",
       "          3.27401332e-02,  1.30685188e-01,  1.66990562e-01,\n",
       "         -2.71357590e-01],\n",
       "        [-8.62203934e-02,  2.92553053e-02, -1.41283420e-01,\n",
       "         -1.36137186e-02,  8.41449512e-02,  3.49651289e-01,\n",
       "          9.45193608e-02,  2.25317049e-01, -6.83230042e-02,\n",
       "         -5.10155791e-02, -2.03378832e-01, -1.44591963e-03,\n",
       "          1.65207847e-01,  1.84574767e-01, -1.04294655e-02,\n",
       "          4.05208431e-03,  2.47431376e-01,  1.99743213e-01,\n",
       "          1.47942657e-01,  2.51835869e-01, -1.95037237e-02,\n",
       "         -4.94847990e-03, -3.99283238e-01, -1.64156380e-01,\n",
       "          4.60395149e-03,  1.86271683e-01, -2.77885227e-02,\n",
       "         -8.11676584e-02, -1.43751268e-01, -4.95878319e-02,\n",
       "         -2.14647213e-01, -6.34356925e-02, -1.08771961e-01,\n",
       "         -2.79729921e-01,  2.33671107e-01, -3.18779258e-02,\n",
       "          1.41396177e-01,  1.89672940e-01,  1.57705588e-01,\n",
       "         -5.11631448e-02,  1.98946783e-02,  1.48237804e-03,\n",
       "         -1.16993783e-01, -1.28925853e-01, -1.97980793e-01,\n",
       "          2.69635743e-01, -1.79725628e-01,  1.05730140e-01,\n",
       "         -1.49119556e-02, -5.16468524e-04, -1.64601835e-02,\n",
       "          3.38116486e-01, -8.42699216e-02, -5.04390032e-02,\n",
       "          3.00046291e-01, -9.13741097e-02,  3.01343799e-01,\n",
       "          2.72637760e-01, -8.05768533e-02,  5.17944610e-02,\n",
       "         -4.89351542e-02, -8.36751110e-05, -1.33732909e-01,\n",
       "         -3.10127212e-02,  9.92995966e-04, -1.39040260e-01,\n",
       "          2.02613020e-01, -1.57972216e-02,  8.06948767e-02,\n",
       "         -1.89601987e-01,  1.66447930e-01, -9.85757671e-02,\n",
       "          9.77019181e-02,  1.91476890e-01,  4.55281823e-03,\n",
       "         -1.68343680e-01, -1.01481688e-01, -8.75017263e-02,\n",
       "         -2.21311694e-01, -2.13271427e-02, -3.18180670e-01,\n",
       "         -1.19674843e-01,  2.46426957e-01, -1.69687850e-04,\n",
       "         -4.83949459e-02, -1.02153891e-01, -7.09952411e-02,\n",
       "         -2.01849969e-03,  1.49019141e-01,  5.75999074e-02,\n",
       "         -2.82141527e-02, -2.57236275e-02, -1.40463999e-01,\n",
       "         -4.26561289e-02, -1.58740894e-01, -4.63847929e-02,\n",
       "         -6.13942148e-02,  2.12683249e-01, -3.43042981e-02,\n",
       "          1.13103070e-01],\n",
       "        [-1.96541191e-01,  7.24898456e-02, -3.40769368e-01,\n",
       "         -1.34657774e-01,  2.53787975e-01,  3.31784276e-02,\n",
       "          1.69575559e-01, -2.68066045e-02,  4.95178998e-02,\n",
       "          1.49041184e-02, -3.13514939e-02,  3.46151163e-03,\n",
       "          1.02539565e-01, -4.00598083e-02, -9.91979315e-02,\n",
       "         -8.90743987e-03,  2.25065100e-03,  2.87762639e-01,\n",
       "         -7.07238941e-02, -9.22640027e-02, -2.25853012e-02,\n",
       "         -6.09560627e-02,  1.83599269e-02,  1.09563513e-02,\n",
       "         -1.40035984e-02,  2.93279190e-01,  9.53486333e-02,\n",
       "          2.83060902e-03, -3.32462506e-02, -1.02299464e-01,\n",
       "          7.46268389e-02, -2.61908004e-01, -1.52318348e-01,\n",
       "         -1.25844623e-01,  2.18629424e-02,  1.17259041e-01,\n",
       "          2.24641666e-01,  1.65695416e-02, -8.25508733e-02,\n",
       "         -2.06090618e-01,  6.23866681e-03,  1.43338054e-03,\n",
       "         -2.72653642e-01,  2.19621108e-01, -8.71455449e-02,\n",
       "          2.23700918e-01, -1.99270292e-01,  2.16091878e-01,\n",
       "         -1.89506806e-02,  4.33472741e-02, -2.35448037e-02,\n",
       "          1.82845842e-01, -1.07967829e-01, -1.01412659e-02,\n",
       "          2.93646025e-01, -1.42745643e-01,  2.94705847e-01,\n",
       "         -5.12658309e-02,  7.58243384e-03,  3.72517072e-01,\n",
       "         -9.60297916e-02,  1.65071547e-02, -8.80535553e-02,\n",
       "         -9.24438641e-03,  7.06163757e-02, -3.00366045e-01,\n",
       "         -3.44232436e-03,  7.31866229e-02,  9.95174779e-02,\n",
       "         -9.32846347e-02, -1.74064158e-01, -2.32380020e-01,\n",
       "         -2.25263956e-01,  1.69230690e-01, -1.77361740e-02,\n",
       "          7.57585305e-02, -2.74170493e-01,  6.33651436e-02,\n",
       "          1.96669932e-02,  8.87963986e-02, -1.56783512e-02,\n",
       "         -2.21192301e-01, -5.32619069e-02,  6.48660449e-02,\n",
       "          3.43614075e-01,  1.92843317e-05,  1.00987928e-01,\n",
       "          1.31134281e-01, -2.68053339e-01, -2.21044237e-02,\n",
       "         -3.98947927e-02,  6.16768770e-03, -8.51486140e-02,\n",
       "          1.94992330e-01, -2.47937276e-01,  2.68751456e-02,\n",
       "         -5.30312870e-02, -1.28172739e-01, -3.52311633e-01,\n",
       "         -1.51290849e-01]]),\n",
       " array([[ 3.35271161e-01, -2.82353842e-01,  9.92104473e-02],\n",
       "        [ 1.29646352e-01,  1.61746308e-01,  5.34297423e-02],\n",
       "        [ 2.15489097e-01, -2.90695105e-01,  1.00178629e-01],\n",
       "        [ 3.24644167e-01, -2.82860468e-02, -2.71821315e-01],\n",
       "        [-2.58741757e-01,  1.07911905e-01, -1.97228267e-02],\n",
       "        [-1.47203721e-01, -1.83143987e-02,  2.64743292e-01],\n",
       "        [-3.76532803e-02, -1.88354397e-01, -2.87388908e-02],\n",
       "        [-3.01633237e-01, -5.17199800e-02,  3.47519314e-02],\n",
       "        [ 2.44570799e-02, -3.59099750e-02, -9.67859569e-03],\n",
       "        [ 7.18804856e-02,  8.71436174e-02,  7.16078448e-02],\n",
       "        [ 1.49771013e-01, -2.55976717e-03, -4.54101589e-01],\n",
       "        [ 3.24487014e-03, -8.77566209e-03, -4.71597524e-02],\n",
       "        [-1.52262792e-01,  2.16368234e-01,  1.56184218e-01],\n",
       "        [-1.80620242e-01, -3.81228589e-02, -1.73454457e-01],\n",
       "        [ 2.24357384e-02, -1.02539264e-02,  2.24135888e-02],\n",
       "        [ 7.04807960e-02,  2.96554662e-02,  2.05233685e-02],\n",
       "        [ 9.78874414e-02,  1.06573125e-01,  1.81976155e-01],\n",
       "        [-2.25857131e-01,  2.74833184e-02,  2.87139609e-01],\n",
       "        [ 2.01584249e-01, -1.71111464e-01, -2.01761566e-01],\n",
       "        [-4.51548129e-02, -2.20778039e-01,  1.85301166e-01],\n",
       "        [ 4.55340050e-04,  4.95108672e-03,  3.40670005e-02],\n",
       "        [-8.85824725e-07,  5.37377812e-07,  1.00412755e-02],\n",
       "        [ 2.80609444e-01, -3.57006481e-02,  8.51858395e-02],\n",
       "        [-2.41171235e-02,  1.00195226e-01,  6.22118160e-02],\n",
       "        [-2.03686171e-02, -6.92694362e-02,  2.02279277e-02],\n",
       "        [-1.46481896e-04, -1.34248557e-01,  1.34391928e-01],\n",
       "        [-3.87936477e-02, -1.77161182e-02,  9.52099152e-02],\n",
       "        [ 2.66710941e-02,  7.66727771e-02,  1.20522832e-02],\n",
       "        [ 2.79013430e-02,  1.72007470e-01, -2.51633841e-01],\n",
       "        [ 1.89346814e-05,  2.55755233e-02,  7.91644615e-03],\n",
       "        [ 1.15437642e-01,  1.00540950e-01, -8.37903964e-03],\n",
       "        [ 1.77936012e-01, -3.74373205e-01, -4.58773940e-02],\n",
       "        [ 1.20536383e-01,  2.88338506e-01,  3.24630369e-02],\n",
       "        [ 3.46097023e-01, -3.06054003e-01, -2.72029031e-01],\n",
       "        [-1.23429436e-01,  2.46026812e-02,  2.03158103e-01],\n",
       "        [-4.10415324e-02, -5.15259380e-03, -8.79421126e-02],\n",
       "        [ 2.93257595e-02, -3.88067584e-01,  1.39551379e-01],\n",
       "        [ 8.05268256e-02,  1.01701441e-01,  1.14504904e-01],\n",
       "        [ 1.69244724e-01,  1.04760232e-01, -4.42263589e-02],\n",
       "        [ 2.77578567e-01,  2.25626595e-01, -2.84184197e-01],\n",
       "        [-1.03506563e-01,  9.21148936e-02, -1.97007374e-02],\n",
       "        [-5.53416302e-02, -1.37328633e-02,  6.73791886e-05],\n",
       "        [ 2.48056567e-01,  7.44067046e-07, -2.92687065e-01],\n",
       "        [-1.33232764e-01,  1.39654533e-01,  1.59879508e-01],\n",
       "        [ 2.74926509e-01,  1.95748543e-02, -3.50595258e-01],\n",
       "        [-1.30755114e-01,  1.58664183e-01,  1.87661706e-01],\n",
       "        [ 2.93432611e-01,  1.85608303e-01, -2.26715007e-01],\n",
       "        [-5.79302326e-02,  8.28328875e-02,  1.41307466e-01],\n",
       "        [ 4.25258265e-02,  1.93666070e-02, -2.76225602e-03],\n",
       "        [-6.98607576e-02, -7.34254055e-02,  1.27905051e-02],\n",
       "        [-3.12296974e-02, -2.78893737e-02,  1.82899557e-03],\n",
       "        [-3.04216174e-01, -3.23616672e-01,  1.63265370e-01],\n",
       "        [ 2.79704689e-01,  2.18683729e-01, -1.99906592e-01],\n",
       "        [ 5.17975345e-05,  2.27370364e-04, -3.38907564e-02],\n",
       "        [-2.40561772e-01, -9.81443588e-02,  2.77980741e-01],\n",
       "        [ 3.54797247e-01, -1.45562053e-01, -4.07274732e-01],\n",
       "        [-2.43661746e-01,  8.87459962e-02,  2.51900038e-01],\n",
       "        [-4.63941646e-02,  2.84091892e-01,  2.78091441e-01],\n",
       "        [-5.96268381e-02,  6.05734449e-02,  8.75993304e-02],\n",
       "        [ 1.07287607e-01, -3.33043875e-01,  2.25470657e-01],\n",
       "        [-8.67991170e-03,  5.23821791e-02,  2.47723259e-05],\n",
       "        [ 2.89713731e-02, -1.51958644e-02,  2.57007251e-02],\n",
       "        [ 1.29716599e-01, -3.36657644e-01, -8.36679694e-02],\n",
       "        [-1.36499106e-02,  1.16847384e-02, -9.79858872e-02],\n",
       "        [-3.74692247e-02, -1.96956692e-03, -4.59689463e-02],\n",
       "        [ 1.63658099e-01,  6.03678404e-02, -3.50829934e-01],\n",
       "        [-4.53861718e-02,  1.26565415e-01, -1.21004666e-02],\n",
       "        [-1.03608390e-01, -3.57014849e-02, -7.98995649e-02],\n",
       "        [ 1.81933679e-01,  1.07898211e-02, -2.26246616e-02],\n",
       "        [ 1.39280212e-01, -1.53063599e-01, -1.06044925e-01],\n",
       "        [ 1.29060530e-01,  1.92085921e-01, -1.70842095e-03],\n",
       "        [ 3.02266662e-01, -7.59100856e-02, -1.74970511e-01],\n",
       "        [ 1.72433850e-01, -1.28221442e-01, -6.10938643e-02],\n",
       "        [-9.10380776e-02, -1.83548734e-01,  3.61100545e-01],\n",
       "        [-6.83956865e-04,  4.97553049e-02,  7.39316556e-07],\n",
       "        [ 2.78585923e-01,  1.73221782e-01, -2.64395178e-01],\n",
       "        [-6.20537551e-02,  3.97223659e-01, -3.43617078e-01],\n",
       "        [ 5.38895260e-02, -7.58163563e-04,  4.93682363e-02],\n",
       "        [ 2.90194237e-01, -2.23196776e-01, -1.92296753e-01],\n",
       "        [ 2.01688171e-01, -2.35740038e-01, -2.90692111e-02],\n",
       "        [ 3.92880175e-02,  1.86563679e-01, -2.51072952e-01],\n",
       "        [ 2.68963559e-01, -4.21834978e-01, -2.73673063e-01],\n",
       "        [-2.35865238e-01,  1.75867669e-01,  2.64574950e-01],\n",
       "        [ 8.86572693e-02, -4.63642316e-02, -9.73670312e-02],\n",
       "        [-1.07357935e-01, -2.90168634e-01,  2.00871896e-01],\n",
       "        [-1.03240893e-01,  6.87342751e-03, -2.41688162e-03],\n",
       "        [ 1.21150628e-05, -9.53213597e-02, -8.84748063e-02],\n",
       "        [-9.96636312e-02, -2.56582601e-02,  8.55106146e-02],\n",
       "        [-1.11392107e-02,  1.25600226e-01, -2.24771415e-01],\n",
       "        [ 4.42199015e-02, -9.33412684e-03, -6.18908890e-02],\n",
       "        [-2.14955230e-03, -4.26336110e-02,  5.71537633e-02],\n",
       "        [-8.19389042e-02,  7.87893038e-02, -4.15433241e-02],\n",
       "        [ 9.35815893e-02,  1.44359450e-02, -1.53797326e-01],\n",
       "        [-1.23083002e-01, -3.17625259e-01, -1.92693962e-01],\n",
       "        [-2.12599901e-01, -6.90304380e-02, -1.55342226e-01],\n",
       "        [-1.17292605e-02,  2.62630677e-02, -4.59904861e-02],\n",
       "        [-1.03751009e-01,  3.23943113e-02,  6.46432729e-03],\n",
       "        [-2.38458281e-01, -5.03863717e-02, -1.32271934e-01],\n",
       "        [-7.03999111e-02,  1.37303252e-01, -2.98587781e-01],\n",
       "        [-3.74131623e-01,  1.50786889e-01,  2.16125486e-02]])]"
      ]
     },
     "execution_count": 14,
     "metadata": {},
     "output_type": "execute_result"
    }
   ],
   "source": [
    "clf.coefs_"
   ]
  },
  {
   "cell_type": "code",
   "execution_count": 15,
   "id": "2c93fc51",
   "metadata": {},
   "outputs": [
    {
     "data": {
      "text/plain": [
       "2"
      ]
     },
     "execution_count": 15,
     "metadata": {},
     "output_type": "execute_result"
    }
   ],
   "source": [
    "len(clf.coefs_)"
   ]
  },
  {
   "cell_type": "code",
   "execution_count": 16,
   "id": "6189fad5",
   "metadata": {},
   "outputs": [
    {
     "data": {
      "text/plain": [
       "((4, 100), (100, 3))"
      ]
     },
     "execution_count": 16,
     "metadata": {},
     "output_type": "execute_result"
    }
   ],
   "source": [
    "clf.coefs_[0].shape,clf.coefs_[1].shape"
   ]
  },
  {
   "cell_type": "code",
   "execution_count": 17,
   "id": "f450d3de",
   "metadata": {},
   "outputs": [
    {
     "data": {
      "text/plain": [
       "((100,), (3,))"
      ]
     },
     "execution_count": 17,
     "metadata": {},
     "output_type": "execute_result"
    }
   ],
   "source": [
    "clf.intercepts_[0].shape,clf.intercepts_[1].shape"
   ]
  },
  {
   "cell_type": "code",
   "execution_count": null,
   "id": "990059d3",
   "metadata": {},
   "outputs": [],
   "source": []
  }
 ],
 "metadata": {
  "kernelspec": {
   "display_name": "Python 3 (ipykernel)",
   "language": "python",
   "name": "python3"
  },
  "language_info": {
   "codemirror_mode": {
    "name": "ipython",
    "version": 3
   },
   "file_extension": ".py",
   "mimetype": "text/x-python",
   "name": "python",
   "nbconvert_exporter": "python",
   "pygments_lexer": "ipython3",
   "version": "3.10.9"
  }
 },
 "nbformat": 4,
 "nbformat_minor": 5
}
